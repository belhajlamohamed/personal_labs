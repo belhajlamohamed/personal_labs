{
 "cells": [
  {
   "cell_type": "markdown",
   "metadata": {},
   "source": [
    "<center>\n",
    "    <img src=\"https://gitlab.com/ibm/skills-network/courses/placeholder101/-/raw/master/labs/module%201/images/IDSNlogo.png\" width=\"300\" alt=\"cognitiveclass.ai logo\"  />\n",
    "</center>\n"
   ]
  },
  {
   "cell_type": "markdown",
   "metadata": {},
   "source": [
    "# Peer Review Assignment - Data Engineer - Extract API Data\n"
   ]
  },
  {
   "cell_type": "markdown",
   "metadata": {},
   "source": [
    "Estimated time needed: **20** minutes\n"
   ]
  },
  {
   "cell_type": "markdown",
   "metadata": {},
   "source": [
    "## Objectives\n",
    "\n",
    "In this part you will:\n",
    "\n",
    "*   Collect exchange rate data using an API\n",
    "*   Store the data as a CSV\n"
   ]
  },
  {
   "cell_type": "markdown",
   "metadata": {},
   "source": [
    "For this lab, we are going to be using Python and several Python libraries. Some of these libraries might be installed in your lab environment or in SN Labs. Others may need to be installed by you. The cells below will install these libraries when executed.\n"
   ]
  },
  {
   "cell_type": "code",
   "execution_count": 2,
   "metadata": {},
   "outputs": [
    {
     "name": "stdout",
     "output_type": "stream",
     "text": [
      "Requirement already satisfied: pandas in /home/jupyterlab/conda/envs/python/lib/python3.6/site-packages (1.1.5)\n",
      "Requirement already satisfied: python-dateutil>=2.7.3 in /home/jupyterlab/conda/envs/python/lib/python3.6/site-packages (from pandas) (2.8.1)\n",
      "Requirement already satisfied: pytz>=2017.2 in /home/jupyterlab/conda/envs/python/lib/python3.6/site-packages (from pandas) (2021.1)\n",
      "Requirement already satisfied: numpy>=1.15.4 in /home/jupyterlab/conda/envs/python/lib/python3.6/site-packages (from pandas) (1.19.5)\n",
      "Requirement already satisfied: six>=1.5 in /home/jupyterlab/conda/envs/python/lib/python3.6/site-packages (from python-dateutil>=2.7.3->pandas) (1.15.0)\n",
      "Requirement already satisfied: requests in /home/jupyterlab/conda/envs/python/lib/python3.6/site-packages (2.25.1)\n",
      "Requirement already satisfied: idna<3,>=2.5 in /home/jupyterlab/conda/envs/python/lib/python3.6/site-packages (from requests) (2.10)\n",
      "Requirement already satisfied: urllib3<1.27,>=1.21.1 in /home/jupyterlab/conda/envs/python/lib/python3.6/site-packages (from requests) (1.26.6)\n",
      "Requirement already satisfied: certifi>=2017.4.17 in /home/jupyterlab/conda/envs/python/lib/python3.6/site-packages (from requests) (2021.5.30)\n",
      "Requirement already satisfied: chardet<5,>=3.0.2 in /home/jupyterlab/conda/envs/python/lib/python3.6/site-packages (from requests) (4.0.0)\n"
     ]
    }
   ],
   "source": [
    "!pip install pandas\n",
    "!pip install requests"
   ]
  },
  {
   "cell_type": "markdown",
   "metadata": {},
   "source": [
    "## Imports\n",
    "\n",
    "Import any additional libraries you may need here.\n"
   ]
  },
  {
   "cell_type": "code",
   "execution_count": 3,
   "metadata": {},
   "outputs": [],
   "source": [
    "import requests\n",
    "import pandas as pd"
   ]
  },
  {
   "cell_type": "markdown",
   "metadata": {},
   "source": [
    "## Extract Data Using an API\n"
   ]
  },
  {
   "cell_type": "markdown",
   "metadata": {},
   "source": [
    "Using ExchangeRate-API we will extract currency exchange rate data. Use the below steps to get the access key and to get the data.\n",
    "\n",
    "1.  Open the url : [https://exchangeratesapi.io/](https://exchangeratesapi.io/?utm_medium=Exinfluencer&utm_source=Exinfluencer&utm_content=000026UJ&utm_term=10006555&utm_id=NA-SkillsNetwork-Channel-SkillsNetworkCoursesIBMDeveloperSkillsNetworkPY0221ENSkillsNetwork23455645-2021-01-01) and create a free account.\n",
    "2.  Once the account is created. You will get the Get the Free API key option on the top as shown below:\n",
    "\n",
    "<img src=\"https://cf-courses-data.s3.us.cloud-object-storage.appdomain.cloud/IBMDeveloperSkillsNetwork-PY0221EN-SkillsNetwork/labs/module%206/Final%20Assignment/Images/getapi.png\"/>\n",
    "\n",
    "3.  Copy the API key and use in the url in Question 1.\n"
   ]
  },
  {
   "cell_type": "markdown",
   "metadata": {},
   "source": [
    "### Call the API\n",
    "\n",
    "<b> Question 1</b> Using the `requests` library call the endpoint given above and save the text, remember the first few characters of the output:\n"
   ]
  },
  {
   "cell_type": "code",
   "execution_count": 19,
   "metadata": {},
   "outputs": [],
   "source": [
    "# Write your code here\n",
    "url = \"http://api.exchangeratesapi.io/v1/latest?base=EUR&access_key=d12c04746870788b4fdaaa963a53b428\" #Make sure to change ******* to your API key.\n",
    "data = requests.get(url)"
   ]
  },
  {
   "cell_type": "markdown",
   "metadata": {},
   "source": [
    "### Save as DataFrame\n",
    "\n",
    "<b> Question 2</b>  Using the data gathered turn it into a `pandas` dataframe. The dataframe should have the Currency as the index and `Rate` as their columns. Make sure to drop unnecessary columns.\n"
   ]
  },
  {
   "cell_type": "code",
   "execution_count": 29,
   "metadata": {},
   "outputs": [
    {
     "data": {
      "text/html": [
       "<div>\n",
       "<style scoped>\n",
       "    .dataframe tbody tr th:only-of-type {\n",
       "        vertical-align: middle;\n",
       "    }\n",
       "\n",
       "    .dataframe tbody tr th {\n",
       "        vertical-align: top;\n",
       "    }\n",
       "\n",
       "    .dataframe thead th {\n",
       "        text-align: right;\n",
       "    }\n",
       "</style>\n",
       "<table border=\"1\" class=\"dataframe\">\n",
       "  <thead>\n",
       "    <tr style=\"text-align: right;\">\n",
       "      <th></th>\n",
       "      <th>Rate</th>\n",
       "    </tr>\n",
       "  </thead>\n",
       "  <tbody>\n",
       "    <tr>\n",
       "      <th>0</th>\n",
       "      <td>b'{\"success\":true,\"timestamp\":1629836884,\"base...</td>\n",
       "    </tr>\n",
       "    <tr>\n",
       "      <th>1</th>\n",
       "      <td>b'9,\"AMD\":577.300964,\"ANG\":2.109791,\"AOA\":747....</td>\n",
       "    </tr>\n",
       "    <tr>\n",
       "      <th>2</th>\n",
       "      <td>b'\"BBD\":2.372755,\"BDT\":100.269431,\"BGN\":1.9565...</td>\n",
       "    </tr>\n",
       "    <tr>\n",
       "      <th>3</th>\n",
       "      <td>b'L\":6.181605,\"BSD\":1.175163,\"BTC\":2.4334396e-...</td>\n",
       "    </tr>\n",
       "    <tr>\n",
       "      <th>4</th>\n",
       "      <td>b'CAD\":1.481466,\"CDF\":2348.099865,\"CHF\":1.0731...</td>\n",
       "    </tr>\n",
       "    <tr>\n",
       "      <th>5</th>\n",
       "      <td>b',\"CUC\":1.175814,\"CUP\":31.159058,\"CVE\":110.89...</td>\n",
       "    </tr>\n",
       "    <tr>\n",
       "      <th>6</th>\n",
       "      <td>b',\"EGP\":18.458511,\"ERN\":17.642862,\"ETB\":53.15...</td>\n",
       "    </tr>\n",
       "    <tr>\n",
       "      <th>7</th>\n",
       "      <td>b'6,\"GHS\":7.102138,\"GIP\":0.849646,\"GMD\":60.107...</td>\n",
       "    </tr>\n",
       "    <tr>\n",
       "      <th>8</th>\n",
       "      <td>b',\"HRK\":7.491933,\"HTG\":112.834672,\"HUF\":348.1...</td>\n",
       "    </tr>\n",
       "    <tr>\n",
       "      <th>9</th>\n",
       "      <td>b'9827,\"IRR\":49607.572114,\"ISK\":149.398472,\"JE...</td>\n",
       "    </tr>\n",
       "    <tr>\n",
       "      <th>10</th>\n",
       "      <td>b'99.517918,\"KHR\":4797.318954,\"KMF\":493.077087...</td>\n",
       "    </tr>\n",
       "    <tr>\n",
       "      <th>11</th>\n",
       "      <td>b'\"LAK\":11287.809848,\"LBP\":1795.467033,\"LKR\":2...</td>\n",
       "    </tr>\n",
       "    <tr>\n",
       "      <th>12</th>\n",
       "      <td>b'327,\"MAD\":10.566742,\"MDL\":20.762805,\"MGA\":45...</td>\n",
       "    </tr>\n",
       "    <tr>\n",
       "      <th>13</th>\n",
       "      <td>b'19.765223,\"MUR\":49.856933,\"MVR\":18.087374,\"M...</td>\n",
       "    </tr>\n",
       "    <tr>\n",
       "      <th>14</th>\n",
       "      <td>b'483.95294,\"NIO\":41.272428,\"NOK\":10.382945,\"N...</td>\n",
       "    </tr>\n",
       "    <tr>\n",
       "      <th>15</th>\n",
       "      <td>b'49996,\"PHP\":58.82654,\"PKR\":194.067682,\"PLN\":...</td>\n",
       "    </tr>\n",
       "    <tr>\n",
       "      <th>16</th>\n",
       "      <td>b'9775,\"RWF\":1181.692584,\"SAR\":4.40957,\"SBD\":9...</td>\n",
       "    </tr>\n",
       "    <tr>\n",
       "      <th>17</th>\n",
       "      <td>b'64,\"SLL\":12057.967835,\"SOS\":686.674867,\"SRD\"...</td>\n",
       "    </tr>\n",
       "    <tr>\n",
       "      <th>18</th>\n",
       "      <td>b'\":38.672533,\"TJS\":13.410771,\"TMT\":4.127105,\"...</td>\n",
       "    </tr>\n",
       "    <tr>\n",
       "      <th>19</th>\n",
       "      <td>b'6.711817,\"UAH\":31.364541,\"UGX\":4156.086427,\"...</td>\n",
       "    </tr>\n",
       "    <tr>\n",
       "      <th>20</th>\n",
       "      <td>b'.240248,\"VUV\":130.382346,\"WST\":3.010981,\"XAF...</td>\n",
       "    </tr>\n",
       "    <tr>\n",
       "      <th>21</th>\n",
       "      <td>b'5831,\"XPF\":119.785941,\"YER\":294.835019,\"ZAR\"...</td>\n",
       "    </tr>\n",
       "  </tbody>\n",
       "</table>\n",
       "</div>"
      ],
      "text/plain": [
       "                                                 Rate\n",
       "0   b'{\"success\":true,\"timestamp\":1629836884,\"base...\n",
       "1   b'9,\"AMD\":577.300964,\"ANG\":2.109791,\"AOA\":747....\n",
       "2   b'\"BBD\":2.372755,\"BDT\":100.269431,\"BGN\":1.9565...\n",
       "3   b'L\":6.181605,\"BSD\":1.175163,\"BTC\":2.4334396e-...\n",
       "4   b'CAD\":1.481466,\"CDF\":2348.099865,\"CHF\":1.0731...\n",
       "5   b',\"CUC\":1.175814,\"CUP\":31.159058,\"CVE\":110.89...\n",
       "6   b',\"EGP\":18.458511,\"ERN\":17.642862,\"ETB\":53.15...\n",
       "7   b'6,\"GHS\":7.102138,\"GIP\":0.849646,\"GMD\":60.107...\n",
       "8   b',\"HRK\":7.491933,\"HTG\":112.834672,\"HUF\":348.1...\n",
       "9   b'9827,\"IRR\":49607.572114,\"ISK\":149.398472,\"JE...\n",
       "10  b'99.517918,\"KHR\":4797.318954,\"KMF\":493.077087...\n",
       "11  b'\"LAK\":11287.809848,\"LBP\":1795.467033,\"LKR\":2...\n",
       "12  b'327,\"MAD\":10.566742,\"MDL\":20.762805,\"MGA\":45...\n",
       "13  b'19.765223,\"MUR\":49.856933,\"MVR\":18.087374,\"M...\n",
       "14  b'483.95294,\"NIO\":41.272428,\"NOK\":10.382945,\"N...\n",
       "15  b'49996,\"PHP\":58.82654,\"PKR\":194.067682,\"PLN\":...\n",
       "16  b'9775,\"RWF\":1181.692584,\"SAR\":4.40957,\"SBD\":9...\n",
       "17  b'64,\"SLL\":12057.967835,\"SOS\":686.674867,\"SRD\"...\n",
       "18  b'\":38.672533,\"TJS\":13.410771,\"TMT\":4.127105,\"...\n",
       "19  b'6.711817,\"UAH\":31.364541,\"UGX\":4156.086427,\"...\n",
       "20  b'.240248,\"VUV\":130.382346,\"WST\":3.010981,\"XAF...\n",
       "21  b'5831,\"XPF\":119.785941,\"YER\":294.835019,\"ZAR\"..."
      ]
     },
     "execution_count": 29,
     "metadata": {},
     "output_type": "execute_result"
    }
   ],
   "source": [
    "# Turn the data into a dataframe\n",
    "columns = ['Rate']\n",
    "df = pd.DataFrame(data, columns= columns)\n",
    "df.set_index('Rate')\n",
    "df"
   ]
  },
  {
   "cell_type": "code",
   "execution_count": 125,
   "metadata": {},
   "outputs": [
    {
     "name": "stdout",
     "output_type": "stream",
     "text": [
      "<class 'pandas.core.frame.DataFrame'>\n"
     ]
    },
    {
     "data": {
      "text/html": [
       "<div>\n",
       "<style scoped>\n",
       "    .dataframe tbody tr th:only-of-type {\n",
       "        vertical-align: middle;\n",
       "    }\n",
       "\n",
       "    .dataframe tbody tr th {\n",
       "        vertical-align: top;\n",
       "    }\n",
       "\n",
       "    .dataframe thead th {\n",
       "        text-align: right;\n",
       "    }\n",
       "</style>\n",
       "<table border=\"1\" class=\"dataframe\">\n",
       "  <thead>\n",
       "    <tr style=\"text-align: right;\">\n",
       "      <th></th>\n",
       "      <th></th>\n",
       "      <th>Rates</th>\n",
       "    </tr>\n",
       "  </thead>\n",
       "  <tbody>\n",
       "    <tr>\n",
       "      <th>0</th>\n",
       "      <td>AED</td>\n",
       "      <td>4.318762</td>\n",
       "    </tr>\n",
       "    <tr>\n",
       "      <th>1</th>\n",
       "      <td>AFN</td>\n",
       "      <td>101.296772</td>\n",
       "    </tr>\n",
       "    <tr>\n",
       "      <th>2</th>\n",
       "      <td>ALL</td>\n",
       "      <td>121.914559</td>\n",
       "    </tr>\n",
       "    <tr>\n",
       "      <th>3</th>\n",
       "      <td>AMD</td>\n",
       "      <td>577.300964</td>\n",
       "    </tr>\n",
       "    <tr>\n",
       "      <th>4</th>\n",
       "      <td>ANG</td>\n",
       "      <td>2.109791</td>\n",
       "    </tr>\n",
       "    <tr>\n",
       "      <th>...</th>\n",
       "      <td>...</td>\n",
       "      <td>...</td>\n",
       "    </tr>\n",
       "    <tr>\n",
       "      <th>163</th>\n",
       "      <td>YER</td>\n",
       "      <td>294.835019</td>\n",
       "    </tr>\n",
       "    <tr>\n",
       "      <th>164</th>\n",
       "      <td>ZAR</td>\n",
       "      <td>17.640842</td>\n",
       "    </tr>\n",
       "    <tr>\n",
       "      <th>165</th>\n",
       "      <td>ZMK</td>\n",
       "      <td>10583.732526</td>\n",
       "    </tr>\n",
       "    <tr>\n",
       "      <th>166</th>\n",
       "      <td>ZMW</td>\n",
       "      <td>19.687279</td>\n",
       "    </tr>\n",
       "    <tr>\n",
       "      <th>167</th>\n",
       "      <td>ZWL</td>\n",
       "      <td>378.611473</td>\n",
       "    </tr>\n",
       "  </tbody>\n",
       "</table>\n",
       "<p>168 rows × 2 columns</p>\n",
       "</div>"
      ],
      "text/plain": [
       "                 Rates\n",
       "0    AED      4.318762\n",
       "1    AFN    101.296772\n",
       "2    ALL    121.914559\n",
       "3    AMD    577.300964\n",
       "4    ANG      2.109791\n",
       "..   ...           ...\n",
       "163  YER    294.835019\n",
       "164  ZAR     17.640842\n",
       "165  ZMK  10583.732526\n",
       "166  ZMW     19.687279\n",
       "167  ZWL    378.611473\n",
       "\n",
       "[168 rows x 2 columns]"
      ]
     },
     "execution_count": 125,
     "metadata": {},
     "output_type": "execute_result"
    }
   ],
   "source": [
    "# Drop unnescessary columns\n",
    "import json\n",
    "sr = df.iloc[0,0].decode()\n",
    "for i in range(1, 22):\n",
    "    sr += df.iloc[i,0].decode()\n",
    "    \n",
    "dtframe = pd.DataFrame(columns= ['','Rates'])\n",
    "for key, value in json.loads(sr)['rates'].items():\n",
    "    dtframe = dtframe.append({'': key, 'Rates':value}, ignore_index=True)\n",
    "print(type(dtframe))\n",
    "dtframe"
   ]
  },
  {
   "cell_type": "markdown",
   "metadata": {},
   "source": [
    "### Load the Data\n",
    "\n",
    "Using the dataframe save it as a CSV names `exchange_rates_1.csv`.\n"
   ]
  },
  {
   "cell_type": "code",
   "execution_count": 127,
   "metadata": {},
   "outputs": [
    {
     "data": {
      "text/plain": [
       "',,Rates\\n0,AED,4.318762\\n1,AFN,101.296772\\n2,ALL,121.914559\\n3,AMD,577.300964\\n4,ANG,2.109791\\n5,AOA,747.916191\\n6,ARS,114.477531\\n7,AUD,1.620471\\n8,AWG,2.117052\\n9,AZN,2.001734\\n10,BAM,1.958793\\n11,BBD,2.372755\\n12,BDT,100.269431\\n13,BGN,1.956513\\n14,BHD,0.443318\\n15,BIF,2336.341456\\n16,BMD,1.175814\\n17,BND,1.593824\\n18,BOB,8.102674\\n19,BRL,6.181605\\n20,BSD,1.175163\\n21,BTC,2.4334396e-05\\n22,BTN,86.113508\\n23,BWP,13.226187\\n24,BYN,2.943953\\n25,BYR,23045.944913\\n26,BZD,2.369184\\n27,CAD,1.481466\\n28,CDF,2348.099865\\n29,CHF,1.073164\\n30,CLF,0.033353\\n31,CLP,920.302954\\n32,CNY,7.609158\\n33,COP,4542.779035\\n34,CRC,729.894026\\n35,CUC,1.175814\\n36,CUP,31.159058\\n37,CVE,110.898705\\n38,CZK,25.52985\\n39,DJF,208.965526\\n40,DKK,7.436901\\n41,DOP,67.138443\\n42,DZD,158.975912\\n43,EGP,18.458511\\n44,ERN,17.642862\\n45,ETB,53.157246\\n46,EUR,1.0\\n47,FJD,2.472324\\n48,FKP,0.849646\\n49,GBP,0.85638\\n50,GEL,3.65711\\n51,GGP,0.849646\\n52,GHS,7.102138\\n53,GIP,0.849646\\n54,GMD,60.107937\\n55,GNF,11499.456529\\n56,GTQ,9.09726\\n57,GYD,245.856924\\n58,HKD,9.156718\\n59,HNL,28.054967\\n60,HRK,7.491933\\n61,HTG,112.834672\\n62,HUF,348.169795\\n63,IDR,16940.944766\\n64,ILS,3.784202\\n65,IMP,0.849646\\n66,INR,87.155768\\n67,IQD,1716.099827\\n68,IRR,49607.572114\\n69,ISK,149.398472\\n70,JEP,0.849646\\n71,JMD,180.214637\\n72,JOD,0.833683\\n73,JPY,128.968515\\n74,KES,128.927328\\n75,KGS,99.517918\\n76,KHR,4797.318954\\n77,KMF,493.077087\\n78,KPW,1058.232362\\n79,KRW,1369.541091\\n80,KWD,0.353801\\n81,KYD,0.979302\\n82,KZT,499.461229\\n83,LAK,11287.809848\\n84,LBP,1795.467033\\n85,LKR,234.486875\\n86,LRD,201.945912\\n87,LSL,17.789839\\n88,LTL,3.471871\\n89,LVL,0.711238\\n90,LYD,5.332327\\n91,MAD,10.566742\\n92,MDL,20.762805\\n93,MGA,4503.365948\\n94,MKD,61.707813\\n95,MMK,1934.663794\\n96,MNT,3352.128097\\n97,MOP,9.428742\\n98,MRO,419.765223\\n99,MUR,49.856933\\n100,MVR,18.087374\\n101,MWK,952.408445\\n102,MXN,23.763075\\n103,MYR,4.968926\\n104,MZN,74.916916\\n105,NAD,17.790206\\n106,NGN,483.95294\\n107,NIO,41.272428\\n108,NOK,10.382945\\n109,NPR,137.807618\\n110,NZD,1.692062\\n111,OMR,0.452709\\n112,PAB,1.175163\\n113,PEN,4.813191\\n114,PGK,4.149996\\n115,PHP,58.82654\\n116,PKR,194.067682\\n117,PLN,4.574479\\n118,PYG,8142.816689\\n119,QAR,4.281107\\n120,RON,4.93042\\n121,RSD,117.757116\\n122,RUB,86.709775\\n123,RWF,1181.692584\\n124,SAR,4.40957\\n125,SBD,9.463412\\n126,SCR,15.087623\\n127,SDG,523.826295\\n128,SEK,10.217902\\n129,SGD,1.592062\\n130,SHP,1.619564\\n131,SLL,12057.967835\\n132,SOS,686.674867\\n133,SRD,25.157121\\n134,STD,24336.965823\\n135,SVC,10.284556\\n136,SYP,1478.672474\\n137,SZL,17.727414\\n138,THB,38.672533\\n139,TJS,13.410771\\n140,TMT,4.127105\\n141,TND,3.297029\\n142,TOP,2.676971\\n143,TRY,9.887551\\n144,TTD,7.987121\\n145,TWD,32.831036\\n146,TZS,2726.711817\\n147,UAH,31.364541\\n148,UGX,4156.086427\\n149,USD,1.175814\\n150,UYU,50.828883\\n151,UZS,12522.41373\\n152,VEF,251424465549.33752\\n153,VND,26833.240248\\n154,VUV,130.382346\\n155,WST,3.010981\\n156,XAF,656.956288\\n157,XAG,0.049235\\n158,XAU,0.000652\\n159,XCD,3.177695\\n160,XDR,0.82856\\n161,XOF,658.455831\\n162,XPF,119.785941\\n163,YER,294.835019\\n164,ZAR,17.640842\\n165,ZMK,10583.732526\\n166,ZMW,19.687279\\n167,ZWL,378.611473\\n'"
      ]
     },
     "execution_count": 127,
     "metadata": {},
     "output_type": "execute_result"
    }
   ],
   "source": [
    "# Save the Dataframe\n",
    "dtcsv = dtframe.to_csv()\n",
    "dtcsv"
   ]
  },
  {
   "cell_type": "markdown",
   "metadata": {},
   "source": [
    "Your CSV should be in this format with more currencies\n",
    "\n",
    "|     | Rates      |\n",
    "| --- | ---------- |\n",
    "| AED | 4.398618   |\n",
    "| AFN | 92.917693  |\n",
    "| ALL | 123.099093 |\n",
    "| AMD | 621.935674 |\n",
    "| ANG | 2.149648   |\n"
   ]
  },
  {
   "cell_type": "markdown",
   "metadata": {},
   "source": [
    "## Authors\n"
   ]
  },
  {
   "cell_type": "markdown",
   "metadata": {},
   "source": [
    "Ramesh Sannareddy, Joseph Santarcangelo and Azim Hirjani\n"
   ]
  },
  {
   "cell_type": "markdown",
   "metadata": {},
   "source": [
    "### Other Contributors\n"
   ]
  },
  {
   "cell_type": "markdown",
   "metadata": {},
   "source": [
    "Rav Ahuja\n"
   ]
  },
  {
   "cell_type": "markdown",
   "metadata": {},
   "source": [
    "## Change Log\n"
   ]
  },
  {
   "cell_type": "markdown",
   "metadata": {},
   "source": [
    "| Date (YYYY-MM-DD) | Version | Changed By        | Change Description                 |\n",
    "| ----------------- | ------- | ----------------- | ---------------------------------- |\n",
    "| 2021-04-15        | 0.2     | Malika            | Updated the lab from USD to EUR    |\n",
    "| 2020-11-25        | 0.1     | Ramesh Sannareddy | Created initial version of the lab |\n"
   ]
  },
  {
   "cell_type": "markdown",
   "metadata": {},
   "source": [
    "Copyright © 2020 IBM Corporation. This notebook and its source code are released under the terms of the [MIT License](https://cognitiveclass.ai/mit-license?utm_medium=Exinfluencer&utm_source=Exinfluencer&utm_content=000026UJ&utm_term=10006555&utm_id=NA-SkillsNetwork-Channel-SkillsNetworkCoursesIBMDeveloperSkillsNetworkPY0221ENSkillsNetwork23455645-2021-01-01&cm_mmc=Email_Newsletter-\\_-Developer_Ed%2BTech-\\_-WW_WW-\\_-SkillsNetwork-Courses-IBM-DA0321EN-SkillsNetwork-21426264&cm_mmca1=000026UJ&cm_mmca2=10006555&cm_mmca3=M12345678&cvosrc=email.Newsletter.M12345678&cvo_campaign=000026UJ).\n"
   ]
  }
 ],
 "metadata": {
  "kernelspec": {
   "display_name": "Python",
   "language": "python",
   "name": "conda-env-python-py"
  },
  "language_info": {
   "codemirror_mode": {
    "name": "ipython",
    "version": 3
   },
   "file_extension": ".py",
   "mimetype": "text/x-python",
   "name": "python",
   "nbconvert_exporter": "python",
   "pygments_lexer": "ipython3",
   "version": "3.6.13"
  }
 },
 "nbformat": 4,
 "nbformat_minor": 4
}
